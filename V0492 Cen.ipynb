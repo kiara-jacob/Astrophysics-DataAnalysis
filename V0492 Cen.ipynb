{
 "cells": [
  {
   "cell_type": "markdown",
   "id": "fee2a74b",
   "metadata": {},
   "source": [
    "V0492 Cen\n",
    "Source: https://asas-sn.osu.edu/variables/676bd36e-e93d-58f3-b858-175c645d7e83"
   ]
  },
  {
   "cell_type": "code",
   "execution_count": 1,
   "id": "6e3a670c",
   "metadata": {},
   "outputs": [],
   "source": [
    "import numpy as np\n",
    "import pandas as pd\n",
    "import matplotlib.pyplot as plt\n",
    "import seaborn as sns\n",
    "%matplotlib inline"
   ]
  },
  {
   "cell_type": "code",
   "execution_count": 3,
   "id": "bfb3fad1",
   "metadata": {},
   "outputs": [],
   "source": [
    "cs_df=pd.read_csv(\"V0492 Cen.csv\") #obtained from ASAS-SN Variable star database"
   ]
  },
  {
   "cell_type": "code",
   "execution_count": 4,
   "id": "1d063aff",
   "metadata": {},
   "outputs": [
    {
     "data": {
      "text/html": [
       "<div>\n",
       "<style scoped>\n",
       "    .dataframe tbody tr th:only-of-type {\n",
       "        vertical-align: middle;\n",
       "    }\n",
       "\n",
       "    .dataframe tbody tr th {\n",
       "        vertical-align: top;\n",
       "    }\n",
       "\n",
       "    .dataframe thead th {\n",
       "        text-align: right;\n",
       "    }\n",
       "</style>\n",
       "<table border=\"1\" class=\"dataframe\">\n",
       "  <thead>\n",
       "    <tr style=\"text-align: right;\">\n",
       "      <th></th>\n",
       "      <th>hjd</th>\n",
       "      <th>camera</th>\n",
       "      <th>filter</th>\n",
       "      <th>mag</th>\n",
       "      <th>mag err</th>\n",
       "      <th>flux (mJy)</th>\n",
       "      <th>flux err</th>\n",
       "    </tr>\n",
       "  </thead>\n",
       "  <tbody>\n",
       "    <tr>\n",
       "      <th>0</th>\n",
       "      <td>2.458225e+06</td>\n",
       "      <td>be</td>\n",
       "      <td>V</td>\n",
       "      <td>12.899</td>\n",
       "      <td>0.02000</td>\n",
       "      <td>26.556</td>\n",
       "      <td>0.489</td>\n",
       "    </tr>\n",
       "    <tr>\n",
       "      <th>1</th>\n",
       "      <td>2.458207e+06</td>\n",
       "      <td>be</td>\n",
       "      <td>V</td>\n",
       "      <td>13.194</td>\n",
       "      <td>0.02241</td>\n",
       "      <td>20.249</td>\n",
       "      <td>0.417</td>\n",
       "    </tr>\n",
       "    <tr>\n",
       "      <th>2</th>\n",
       "      <td>2.457792e+06</td>\n",
       "      <td>be</td>\n",
       "      <td>V</td>\n",
       "      <td>13.915</td>\n",
       "      <td>0.02331</td>\n",
       "      <td>10.422</td>\n",
       "      <td>0.224</td>\n",
       "    </tr>\n",
       "    <tr>\n",
       "      <th>3</th>\n",
       "      <td>2.457786e+06</td>\n",
       "      <td>be</td>\n",
       "      <td>V</td>\n",
       "      <td>13.857</td>\n",
       "      <td>0.02296</td>\n",
       "      <td>10.994</td>\n",
       "      <td>0.232</td>\n",
       "    </tr>\n",
       "    <tr>\n",
       "      <th>4</th>\n",
       "      <td>2.458172e+06</td>\n",
       "      <td>be</td>\n",
       "      <td>V</td>\n",
       "      <td>14.008</td>\n",
       "      <td>0.02397</td>\n",
       "      <td>9.562</td>\n",
       "      <td>0.211</td>\n",
       "    </tr>\n",
       "    <tr>\n",
       "      <th>...</th>\n",
       "      <td>...</td>\n",
       "      <td>...</td>\n",
       "      <td>...</td>\n",
       "      <td>...</td>\n",
       "      <td>...</td>\n",
       "      <td>...</td>\n",
       "      <td>...</td>\n",
       "    </tr>\n",
       "    <tr>\n",
       "      <th>214</th>\n",
       "      <td>2.457747e+06</td>\n",
       "      <td>be</td>\n",
       "      <td>V</td>\n",
       "      <td>13.048</td>\n",
       "      <td>0.02324</td>\n",
       "      <td>23.159</td>\n",
       "      <td>0.495</td>\n",
       "    </tr>\n",
       "    <tr>\n",
       "      <th>215</th>\n",
       "      <td>2.457865e+06</td>\n",
       "      <td>be</td>\n",
       "      <td>V</td>\n",
       "      <td>13.783</td>\n",
       "      <td>0.02259</td>\n",
       "      <td>11.770</td>\n",
       "      <td>0.245</td>\n",
       "    </tr>\n",
       "    <tr>\n",
       "      <th>216</th>\n",
       "      <td>2.457729e+06</td>\n",
       "      <td>be</td>\n",
       "      <td>V</td>\n",
       "      <td>12.481</td>\n",
       "      <td>0.02000</td>\n",
       "      <td>39.046</td>\n",
       "      <td>0.718</td>\n",
       "    </tr>\n",
       "    <tr>\n",
       "      <th>217</th>\n",
       "      <td>2.457479e+06</td>\n",
       "      <td>be</td>\n",
       "      <td>V</td>\n",
       "      <td>14.112</td>\n",
       "      <td>0.02486</td>\n",
       "      <td>8.691</td>\n",
       "      <td>0.199</td>\n",
       "    </tr>\n",
       "    <tr>\n",
       "      <th>218</th>\n",
       "      <td>2.457442e+06</td>\n",
       "      <td>be</td>\n",
       "      <td>V</td>\n",
       "      <td>13.562</td>\n",
       "      <td>0.02192</td>\n",
       "      <td>14.422</td>\n",
       "      <td>0.291</td>\n",
       "    </tr>\n",
       "  </tbody>\n",
       "</table>\n",
       "<p>219 rows × 7 columns</p>\n",
       "</div>"
      ],
      "text/plain": [
       "              hjd camera filter     mag  mag err  flux (mJy)  flux err\n",
       "0    2.458225e+06     be      V  12.899  0.02000      26.556     0.489\n",
       "1    2.458207e+06     be      V  13.194  0.02241      20.249     0.417\n",
       "2    2.457792e+06     be      V  13.915  0.02331      10.422     0.224\n",
       "3    2.457786e+06     be      V  13.857  0.02296      10.994     0.232\n",
       "4    2.458172e+06     be      V  14.008  0.02397       9.562     0.211\n",
       "..            ...    ...    ...     ...      ...         ...       ...\n",
       "214  2.457747e+06     be      V  13.048  0.02324      23.159     0.495\n",
       "215  2.457865e+06     be      V  13.783  0.02259      11.770     0.245\n",
       "216  2.457729e+06     be      V  12.481  0.02000      39.046     0.718\n",
       "217  2.457479e+06     be      V  14.112  0.02486       8.691     0.199\n",
       "218  2.457442e+06     be      V  13.562  0.02192      14.422     0.291\n",
       "\n",
       "[219 rows x 7 columns]"
      ]
     },
     "execution_count": 4,
     "metadata": {},
     "output_type": "execute_result"
    }
   ],
   "source": [
    "cs_df"
   ]
  },
  {
   "cell_type": "code",
   "execution_count": 22,
   "id": "8c3c57d5",
   "metadata": {},
   "outputs": [
    {
     "data": {
      "text/plain": [
       "<matplotlib.collections.PathCollection at 0x7ff3461e9970>"
      ]
     },
     "execution_count": 22,
     "metadata": {},
     "output_type": "execute_result"
    },
    {
     "data": {
      "image/png": "[encoded data removed]",
      "text/plain": [
       "<Figure size 432x288 with 1 Axes>"
      ]
     },
     "metadata": {
      "needs_background": "light"
     },
     "output_type": "display_data"
    }
   ],
   "source": [
    "a=cs_df[\"mag\"]\n",
    "b=cs_df[\"flux (mJy)\"]\n",
    "\n",
    "plt.scatter(a,b, c='coral',s=10)"
   ]
  },
  {
   "cell_type": "code",
   "execution_count": null,
   "id": "02cabd9d",
   "metadata": {},
   "outputs": [],
   "source": []
  }
 ],
 "metadata": {
  "kernelspec": {
   "display_name": "Python 3",
   "language": "python",
   "name": "python3"
  },
  "language_info": {
   "codemirror_mode": {
    "name": "ipython",
    "version": 3
   },
   "file_extension": ".py",
   "mimetype": "text/x-python",
   "name": "python",
   "nbconvert_exporter": "python",
   "pygments_lexer": "ipython3",
   "version": "3.8.8"
  }
 },
 "nbformat": 4,
 "nbformat_minor": 5
}
