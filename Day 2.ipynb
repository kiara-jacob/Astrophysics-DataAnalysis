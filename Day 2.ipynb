{
  "nbformat": 4,
  "nbformat_minor": 5,
  "metadata": {
    "kernelspec": {
      "display_name": "Python 3 (ipykernel)",
      "language": "python",
      "name": "python3"
    },
    "language_info": {
      "codemirror_mode": {
        "name": "ipython",
        "version": 3
      },
      "file_extension": ".py",
      "mimetype": "text/x-python",
      "name": "python",
      "nbconvert_exporter": "python",
      "pygments_lexer": "ipython3",
      "version": "3.8.11"
    },
    "colab": {
      "name": "Kiara Jacob- Day 2 Solutions.ipynb",
      "provenance": []
    }
  },
  "cells": [
    {
      "cell_type": "markdown",
      "metadata": {
        "id": "cd5fa4eb"
      },
      "source": [
        "### 1. Solve the following linear equations:\n",
        " 2x + 3y + z = 25, \n",
        " 10x - 2z    =  5, \n",
        " x + 3y+ 4z  = 30"
      ],
      "id": "cd5fa4eb"
    },
    {
      "cell_type": "code",
      "metadata": {
        "id": "56b9e4cf"
      },
      "source": [
        "import numpy as np\n",
        "from scipy import linalg"
      ],
      "id": "56b9e4cf",
      "execution_count": 1,
      "outputs": []
    },
    {
      "cell_type": "code",
      "metadata": {
        "id": "m1TooYnga69C"
      },
      "source": [
        "eqns=np.array([[2,3,1],[10,0,-2],[1,3,4]])\n",
        "value=np.array([[25],[5],[30]])\n",
        "\n",
        "soln=linalg.solve(eqns,value)"
      ],
      "id": "m1TooYnga69C",
      "execution_count": 2,
      "outputs": []
    },
    {
      "cell_type": "code",
      "metadata": {
        "colab": {
          "base_uri": "https://localhost:8080/"
        },
        "id": "q0_5-gBKa9id",
        "outputId": "955e19ed-eac2-473e-a527-03cf7d941499"
      },
      "source": [
        "soln"
      ],
      "id": "q0_5-gBKa9id",
      "execution_count": 3,
      "outputs": [
        {
          "output_type": "execute_result",
          "data": {
            "text/plain": [
              "array([[0.89285714],\n",
              "       [7.08333333],\n",
              "       [1.96428571]])"
            ]
          },
          "metadata": {},
          "execution_count": 3
        }
      ]
    },
    {
      "cell_type": "markdown",
      "metadata": {
        "id": "d4895b93"
      },
      "source": [
        "### 2. Create a 3 dimensional array with random numbers between 10 and 99"
      ],
      "id": "d4895b93"
    },
    {
      "cell_type": "code",
      "metadata": {
        "id": "e05401d7"
      },
      "source": [
        "import numpy as np"
      ],
      "id": "e05401d7",
      "execution_count": 4,
      "outputs": []
    },
    {
      "cell_type": "code",
      "metadata": {
        "id": "bU5D4l2nbEZC"
      },
      "source": [
        "ar1=np.random.random([3,3])*100"
      ],
      "id": "bU5D4l2nbEZC",
      "execution_count": 5,
      "outputs": []
    },
    {
      "cell_type": "code",
      "metadata": {
        "colab": {
          "base_uri": "https://localhost:8080/"
        },
        "id": "Cds121_IbGox",
        "outputId": "54ab0dbf-da9f-4e37-8d5a-86add3358827"
      },
      "source": [
        "ar1"
      ],
      "id": "Cds121_IbGox",
      "execution_count": 6,
      "outputs": [
        {
          "output_type": "execute_result",
          "data": {
            "text/plain": [
              "array([[75.25883859, 47.33615877, 53.77944782],\n",
              "       [44.88403637, 21.74782367, 11.52741199],\n",
              "       [91.03199331, 46.86018363, 58.22921903]])"
            ]
          },
          "metadata": {},
          "execution_count": 6
        }
      ]
    },
    {
      "cell_type": "markdown",
      "metadata": {
        "id": "1f973674"
      },
      "source": [
        "### 3. Create a Data Frame with entries for 10 bright stars with their positions (RA, Dec), magnitude (brightness), Distance from the Sun. Plot their positions in scatterplot, obtain the histogram for distance frm the Sun. \n",
        "(obtain data from the internet)"
      ],
      "id": "1f973674"
    },
    {
      "cell_type": "code",
      "metadata": {
        "id": "76457ddc"
      },
      "source": [
        "#https://gea.esac.esa.int/archive/ source\n",
        "\n",
        "import numpy as np\n",
        "import pandas as pd\n",
        "\n",
        "\n",
        "stars=pd.read_csv('Stars.csv')"
      ],
      "id": "76457ddc",
      "execution_count": 11,
      "outputs": []
    },
    {
      "cell_type": "code",
      "metadata": {
        "colab": {
          "base_uri": "https://localhost:8080/",
          "height": 359
        },
        "id": "xxbE6hMdm7HN",
        "outputId": "a70df63a-45eb-43a9-db8b-d2ebb7b7f559"
      },
      "source": [
        "stars"
      ],
      "id": "xxbE6hMdm7HN",
      "execution_count": 12,
      "outputs": [
        {
          "output_type": "execute_result",
          "data": {
            "text/html": [
              "<div>\n",
              "<style scoped>\n",
              "    .dataframe tbody tr th:only-of-type {\n",
              "        vertical-align: middle;\n",
              "    }\n",
              "\n",
              "    .dataframe tbody tr th {\n",
              "        vertical-align: top;\n",
              "    }\n",
              "\n",
              "    .dataframe thead th {\n",
              "        text-align: right;\n",
              "    }\n",
              "</style>\n",
              "<table border=\"1\" class=\"dataframe\">\n",
              "  <thead>\n",
              "    <tr style=\"text-align: right;\">\n",
              "      <th></th>\n",
              "      <th>Star</th>\n",
              "      <th>RA</th>\n",
              "      <th>dec</th>\n",
              "      <th>Magnitude</th>\n",
              "      <th>Distance</th>\n",
              "    </tr>\n",
              "  </thead>\n",
              "  <tbody>\n",
              "    <tr>\n",
              "      <th>0</th>\n",
              "      <td>Proxima Centauri</td>\n",
              "      <td>217.392321</td>\n",
              "      <td>-62.676075</td>\n",
              "      <td>15.500</td>\n",
              "      <td>4.2460</td>\n",
              "    </tr>\n",
              "    <tr>\n",
              "      <th>1</th>\n",
              "      <td>Wolf 1061</td>\n",
              "      <td>247.574814</td>\n",
              "      <td>-12.667851</td>\n",
              "      <td>10.072</td>\n",
              "      <td>14.0400</td>\n",
              "    </tr>\n",
              "    <tr>\n",
              "      <th>2</th>\n",
              "      <td>Bernard's Star</td>\n",
              "      <td>269.448503</td>\n",
              "      <td>4.739420</td>\n",
              "      <td>9.511</td>\n",
              "      <td>5.9780</td>\n",
              "    </tr>\n",
              "    <tr>\n",
              "      <th>3</th>\n",
              "      <td>Lalande 21185</td>\n",
              "      <td>165.830960</td>\n",
              "      <td>35.948653</td>\n",
              "      <td>7.520</td>\n",
              "      <td>8.3070</td>\n",
              "    </tr>\n",
              "    <tr>\n",
              "      <th>4</th>\n",
              "      <td>Ross 154</td>\n",
              "      <td>282.458789</td>\n",
              "      <td>-23.837097</td>\n",
              "      <td>10.544</td>\n",
              "      <td>9.7035</td>\n",
              "    </tr>\n",
              "    <tr>\n",
              "      <th>5</th>\n",
              "      <td>61 Cygni A</td>\n",
              "      <td>316.748479</td>\n",
              "      <td>38.763862</td>\n",
              "      <td>2.500</td>\n",
              "      <td>11.4000</td>\n",
              "    </tr>\n",
              "    <tr>\n",
              "      <th>6</th>\n",
              "      <td>Tau Ceti</td>\n",
              "      <td>26.009055</td>\n",
              "      <td>-15.933680</td>\n",
              "      <td>3.500</td>\n",
              "      <td>11.7500</td>\n",
              "    </tr>\n",
              "    <tr>\n",
              "      <th>7</th>\n",
              "      <td>Teegarden's Star</td>\n",
              "      <td>43.269642</td>\n",
              "      <td>16.864374</td>\n",
              "      <td>15.130</td>\n",
              "      <td>12.5000</td>\n",
              "    </tr>\n",
              "    <tr>\n",
              "      <th>8</th>\n",
              "      <td>Gliese 1</td>\n",
              "      <td>1.383284</td>\n",
              "      <td>-37.367744</td>\n",
              "      <td>8.570</td>\n",
              "      <td>14.2000</td>\n",
              "    </tr>\n",
              "    <tr>\n",
              "      <th>9</th>\n",
              "      <td>Gliese 687</td>\n",
              "      <td>264.104053</td>\n",
              "      <td>68.333498</td>\n",
              "      <td>9.150</td>\n",
              "      <td>14.8400</td>\n",
              "    </tr>\n",
              "  </tbody>\n",
              "</table>\n",
              "</div>"
            ],
            "text/plain": [
              "               Star          RA        dec  Magnitude  Distance\n",
              "0  Proxima Centauri  217.392321 -62.676075     15.500    4.2460\n",
              "1         Wolf 1061  247.574814 -12.667851     10.072   14.0400\n",
              "2    Bernard's Star  269.448503   4.739420      9.511    5.9780\n",
              "3     Lalande 21185  165.830960  35.948653      7.520    8.3070\n",
              "4          Ross 154  282.458789 -23.837097     10.544    9.7035\n",
              "5        61 Cygni A  316.748479  38.763862      2.500   11.4000\n",
              "6          Tau Ceti   26.009055 -15.933680      3.500   11.7500\n",
              "7  Teegarden's Star   43.269642  16.864374     15.130   12.5000\n",
              "8          Gliese 1    1.383284 -37.367744      8.570   14.2000\n",
              "9        Gliese 687  264.104053  68.333498      9.150   14.8400"
            ]
          },
          "metadata": {},
          "execution_count": 12
        }
      ]
    },
    {
      "cell_type": "code",
      "metadata": {
        "colab": {
          "base_uri": "https://localhost:8080/",
          "height": 296
        },
        "id": "BQsHXMxPnC-N",
        "outputId": "fd3b3b87-f5c2-406d-cb07-f24353a4a10a"
      },
      "source": [
        "stars[['RA',\"dec\"]].plot(x='RA',y='dec',kind='scatter')"
      ],
      "id": "BQsHXMxPnC-N",
      "execution_count": 15,
      "outputs": [
        {
          "output_type": "execute_result",
          "data": {
            "text/plain": [
              "<matplotlib.axes._subplots.AxesSubplot at 0x7f3e70a60410>"
            ]
          },
          "metadata": {},
          "execution_count": 15
        },
        {
          "output_type": "display_data",
          "data": {
            "image/png": "[encoded data removed]",
            "text/plain": [
              "<Figure size 432x288 with 1 Axes>"
            ]
          },
          "metadata": {
            "needs_background": "light"
          }
        }
      ]
    },
    {
      "cell_type": "code",
      "metadata": {
        "colab": {
          "base_uri": "https://localhost:8080/",
          "height": 282
        },
        "id": "es-IcGMMnb9q",
        "outputId": "ec966bbe-590e-49ca-a3ff-566c9f96d3b6"
      },
      "source": [
        "stars['Distance'].plot(kind='hist') #in light years"
      ],
      "id": "es-IcGMMnb9q",
      "execution_count": 16,
      "outputs": [
        {
          "output_type": "execute_result",
          "data": {
            "text/plain": [
              "<matplotlib.axes._subplots.AxesSubplot at 0x7f3e70f9da50>"
            ]
          },
          "metadata": {},
          "execution_count": 16
        },
        {
          "output_type": "display_data",
          "data": {
            "image/png": "[encoded data removed]",
            "text/plain": [
              "<Figure size 432x288 with 1 Axes>"
            ]
          },
          "metadata": {
            "needs_background": "light"
          }
        }
      ]
    },
    {
      "cell_type": "markdown",
      "metadata": {
        "id": "33506ec9"
      },
      "source": [
        "### 4. Create a data set and use kmean clustering to identify 3 clusters."
      ],
      "id": "33506ec9"
    },
    {
      "cell_type": "code",
      "metadata": {
        "colab": {
          "base_uri": "https://localhost:8080/",
          "height": 367
        },
        "id": "pkrMQhYmnbBw",
        "outputId": "499c9775-2a86-4ddd-99c1-50a0ef656dbf"
      },
      "source": [
        "import numpy as np\n",
        "from scipy.cluster.vq import  kmeans, whiten\n",
        "import matplotlib.pyplot as plt\n",
        "import seaborn as sns\n",
        "sns.set_style(\"darkgrid\")\n",
        "# Create 50 datapoints in two clusters a and b\n",
        "pts = 100\n",
        "a = np.random.multivariate_normal([0, 0], \n",
        "                                  [[1, 4], [4, 1]], \n",
        "                                  size=pts)\n",
        "b = np.random.multivariate_normal([30, 13],\n",
        "                                  [[10, 6], [6, 1]],\n",
        "                                  size=pts)\n",
        "\n",
        "c=np.random.multivariate_normal([13,2],[[14,19],[7,1]],size=pts)\n",
        "\n",
        "features = np.concatenate((a, b, c))\n",
        "# Whiten data\n",
        "whitened = whiten(features)\n",
        "\n",
        "codebook, distortion = kmeans(whitened, 3)\n",
        "\n",
        "plt.scatter(whitened[:, 0], whitened[:, 1])\n",
        "plt.scatter(codebook[:, 0], codebook[:, 1], c='r')\n",
        "plt.show()"
      ],
      "id": "pkrMQhYmnbBw",
      "execution_count": 58,
      "outputs": [
        {
          "output_type": "stream",
          "name": "stderr",
          "text": [
            "/usr/local/lib/python3.7/dist-packages/ipykernel_launcher.py:10: RuntimeWarning: covariance is not positive-semidefinite.\n",
            "  # Remove the CWD from sys.path while we load stuff.\n",
            "/usr/local/lib/python3.7/dist-packages/ipykernel_launcher.py:13: RuntimeWarning: covariance is not positive-semidefinite.\n",
            "  del sys.path[0]\n",
            "/usr/local/lib/python3.7/dist-packages/ipykernel_launcher.py:15: RuntimeWarning: covariance is not positive-semidefinite.\n",
            "  from ipykernel import kernelapp as app\n"
          ]
        },
        {
          "output_type": "display_data",
          "data": {
            "image/png": "[encoded data removed]",
            "text/plain": [
              "<Figure size 432x288 with 1 Axes>"
            ]
          },
          "metadata": {}
        }
      ]
    },
    {
      "cell_type": "code",
      "metadata": {
        "id": "7e81c042"
      },
      "source": [
        ""
      ],
      "id": "7e81c042",
      "execution_count": null,
      "outputs": []
    },
    {
      "cell_type": "markdown",
      "metadata": {
        "id": "c553af43"
      },
      "source": [
        "### 5. Create a csv file (or download from internet) and use Pandas and do basic statistical analysis of the data."
      ],
      "id": "c553af43"
    },
    {
      "cell_type": "code",
      "metadata": {
        "id": "8db5f822"
      },
      "source": [
        "import pandas as pd\n"
      ],
      "id": "8db5f822",
      "execution_count": 17,
      "outputs": []
    },
    {
      "cell_type": "code",
      "metadata": {
        "colab": {
          "base_uri": "https://localhost:8080/",
          "height": 317
        },
        "id": "MxQUiqWHsTYi",
        "outputId": "8b904c8a-fc99-4514-84e7-069a771c8c16"
      },
      "source": [
        "planets=pd.read_csv('planetdata.csv')\n",
        "planets"
      ],
      "id": "MxQUiqWHsTYi",
      "execution_count": 21,
      "outputs": [
        {
          "output_type": "execute_result",
          "data": {
            "text/html": [
              "<div>\n",
              "<style scoped>\n",
              "    .dataframe tbody tr th:only-of-type {\n",
              "        vertical-align: middle;\n",
              "    }\n",
              "\n",
              "    .dataframe tbody tr th {\n",
              "        vertical-align: top;\n",
              "    }\n",
              "\n",
              "    .dataframe thead th {\n",
              "        text-align: right;\n",
              "    }\n",
              "</style>\n",
              "<table border=\"1\" class=\"dataframe\">\n",
              "  <thead>\n",
              "    <tr style=\"text-align: right;\">\n",
              "      <th></th>\n",
              "      <th>planet</th>\n",
              "      <th>mass</th>\n",
              "      <th>diameter</th>\n",
              "      <th>density</th>\n",
              "      <th>gravity</th>\n",
              "      <th>escape_velocity</th>\n",
              "      <th>rotation_period</th>\n",
              "      <th>length_of_day</th>\n",
              "      <th>distance_from_sun</th>\n",
              "      <th>perihelion</th>\n",
              "      <th>aphelion</th>\n",
              "      <th>orbital_period</th>\n",
              "      <th>orbital_velocity</th>\n",
              "      <th>orbital_inclination</th>\n",
              "      <th>orbital_eccentricity</th>\n",
              "      <th>obliquity_to_orbit</th>\n",
              "      <th>mean_temperature</th>\n",
              "      <th>number_of_moons</th>\n",
              "    </tr>\n",
              "  </thead>\n",
              "  <tbody>\n",
              "    <tr>\n",
              "      <th>0</th>\n",
              "      <td>Mercury</td>\n",
              "      <td>0.330</td>\n",
              "      <td>4879</td>\n",
              "      <td>5427</td>\n",
              "      <td>3.7</td>\n",
              "      <td>4.3</td>\n",
              "      <td>1407.6</td>\n",
              "      <td>4222.6</td>\n",
              "      <td>57.9</td>\n",
              "      <td>46.0</td>\n",
              "      <td>69.8</td>\n",
              "      <td>88.0</td>\n",
              "      <td>47.4</td>\n",
              "      <td>7.0</td>\n",
              "      <td>0.205</td>\n",
              "      <td>0.034</td>\n",
              "      <td>167</td>\n",
              "      <td>0</td>\n",
              "    </tr>\n",
              "    <tr>\n",
              "      <th>1</th>\n",
              "      <td>Venus</td>\n",
              "      <td>4.870</td>\n",
              "      <td>12104</td>\n",
              "      <td>5243</td>\n",
              "      <td>8.9</td>\n",
              "      <td>10.4</td>\n",
              "      <td>-5832.5</td>\n",
              "      <td>2802.0</td>\n",
              "      <td>108.2</td>\n",
              "      <td>107.5</td>\n",
              "      <td>108.9</td>\n",
              "      <td>224.7</td>\n",
              "      <td>35.0</td>\n",
              "      <td>3.4</td>\n",
              "      <td>0.007</td>\n",
              "      <td>177.400</td>\n",
              "      <td>464</td>\n",
              "      <td>0</td>\n",
              "    </tr>\n",
              "    <tr>\n",
              "      <th>2</th>\n",
              "      <td>Earth</td>\n",
              "      <td>5.970</td>\n",
              "      <td>12756</td>\n",
              "      <td>5514</td>\n",
              "      <td>9.8</td>\n",
              "      <td>11.2</td>\n",
              "      <td>23.9</td>\n",
              "      <td>24.0</td>\n",
              "      <td>149.6</td>\n",
              "      <td>147.1</td>\n",
              "      <td>152.1</td>\n",
              "      <td>365.2</td>\n",
              "      <td>29.8</td>\n",
              "      <td>0.0</td>\n",
              "      <td>0.017</td>\n",
              "      <td>23.400</td>\n",
              "      <td>15</td>\n",
              "      <td>1</td>\n",
              "    </tr>\n",
              "    <tr>\n",
              "      <th>3</th>\n",
              "      <td>Mars</td>\n",
              "      <td>0.642</td>\n",
              "      <td>6792</td>\n",
              "      <td>3933</td>\n",
              "      <td>3.7</td>\n",
              "      <td>5.0</td>\n",
              "      <td>24.6</td>\n",
              "      <td>24.7</td>\n",
              "      <td>227.9</td>\n",
              "      <td>206.6</td>\n",
              "      <td>249.2</td>\n",
              "      <td>687.0</td>\n",
              "      <td>24.1</td>\n",
              "      <td>1.9</td>\n",
              "      <td>0.094</td>\n",
              "      <td>25.200</td>\n",
              "      <td>-65</td>\n",
              "      <td>2</td>\n",
              "    </tr>\n",
              "    <tr>\n",
              "      <th>4</th>\n",
              "      <td>Jupiter</td>\n",
              "      <td>1898.000</td>\n",
              "      <td>142984</td>\n",
              "      <td>1326</td>\n",
              "      <td>23.1</td>\n",
              "      <td>59.5</td>\n",
              "      <td>9.9</td>\n",
              "      <td>9.9</td>\n",
              "      <td>778.6</td>\n",
              "      <td>740.5</td>\n",
              "      <td>816.6</td>\n",
              "      <td>4331.0</td>\n",
              "      <td>13.1</td>\n",
              "      <td>1.3</td>\n",
              "      <td>0.049</td>\n",
              "      <td>3.100</td>\n",
              "      <td>-110</td>\n",
              "      <td>79</td>\n",
              "    </tr>\n",
              "    <tr>\n",
              "      <th>5</th>\n",
              "      <td>Saturn</td>\n",
              "      <td>568.000</td>\n",
              "      <td>120536</td>\n",
              "      <td>687</td>\n",
              "      <td>9.0</td>\n",
              "      <td>35.5</td>\n",
              "      <td>10.7</td>\n",
              "      <td>10.7</td>\n",
              "      <td>1433.5</td>\n",
              "      <td>1352.6</td>\n",
              "      <td>1514.5</td>\n",
              "      <td>10747.0</td>\n",
              "      <td>9.7</td>\n",
              "      <td>2.5</td>\n",
              "      <td>0.057</td>\n",
              "      <td>26.700</td>\n",
              "      <td>-140</td>\n",
              "      <td>62</td>\n",
              "    </tr>\n",
              "    <tr>\n",
              "      <th>6</th>\n",
              "      <td>Uranus</td>\n",
              "      <td>86.800</td>\n",
              "      <td>51118</td>\n",
              "      <td>1271</td>\n",
              "      <td>8.7</td>\n",
              "      <td>21.3</td>\n",
              "      <td>-17.2</td>\n",
              "      <td>17.2</td>\n",
              "      <td>2872.5</td>\n",
              "      <td>2741.3</td>\n",
              "      <td>3003.6</td>\n",
              "      <td>30589.0</td>\n",
              "      <td>6.8</td>\n",
              "      <td>0.8</td>\n",
              "      <td>0.046</td>\n",
              "      <td>97.800</td>\n",
              "      <td>-195</td>\n",
              "      <td>27</td>\n",
              "    </tr>\n",
              "    <tr>\n",
              "      <th>7</th>\n",
              "      <td>Neptune</td>\n",
              "      <td>102.000</td>\n",
              "      <td>49528</td>\n",
              "      <td>1638</td>\n",
              "      <td>11.0</td>\n",
              "      <td>23.5</td>\n",
              "      <td>16.1</td>\n",
              "      <td>16.1</td>\n",
              "      <td>4495.1</td>\n",
              "      <td>4444.5</td>\n",
              "      <td>4545.7</td>\n",
              "      <td>59800.0</td>\n",
              "      <td>5.4</td>\n",
              "      <td>1.8</td>\n",
              "      <td>0.011</td>\n",
              "      <td>28.300</td>\n",
              "      <td>-200</td>\n",
              "      <td>14</td>\n",
              "    </tr>\n",
              "  </tbody>\n",
              "</table>\n",
              "</div>"
            ],
            "text/plain": [
              "    planet      mass  ...  mean_temperature  number_of_moons\n",
              "0  Mercury     0.330  ...               167                0\n",
              "1    Venus     4.870  ...               464                0\n",
              "2    Earth     5.970  ...                15                1\n",
              "3     Mars     0.642  ...               -65                2\n",
              "4  Jupiter  1898.000  ...              -110               79\n",
              "5   Saturn   568.000  ...              -140               62\n",
              "6   Uranus    86.800  ...              -195               27\n",
              "7  Neptune   102.000  ...              -200               14\n",
              "\n",
              "[8 rows x 18 columns]"
            ]
          },
          "metadata": {},
          "execution_count": 21
        }
      ]
    },
    {
      "cell_type": "code",
      "metadata": {
        "colab": {
          "base_uri": "https://localhost:8080/"
        },
        "id": "f64lQi6luzcY",
        "outputId": "927fc5cf-8ee0-46af-983a-a8ce1b12fffe"
      },
      "source": [
        "type(planets)"
      ],
      "id": "f64lQi6luzcY",
      "execution_count": 22,
      "outputs": [
        {
          "output_type": "execute_result",
          "data": {
            "text/plain": [
              "pandas.core.frame.DataFrame"
            ]
          },
          "metadata": {},
          "execution_count": 22
        }
      ]
    },
    {
      "cell_type": "code",
      "metadata": {
        "colab": {
          "base_uri": "https://localhost:8080/"
        },
        "id": "wqNHEO2evxlc",
        "outputId": "868c5919-6ed5-46b8-f3a3-145c0ac1e9f0"
      },
      "source": [
        "planets.mean()"
      ],
      "id": "wqNHEO2evxlc",
      "execution_count": 23,
      "outputs": [
        {
          "output_type": "execute_result",
          "data": {
            "text/plain": [
              "mass                      333.32650\n",
              "diameter                50087.12500\n",
              "density                  3129.87500\n",
              "gravity                     9.73750\n",
              "escape_velocity            21.33750\n",
              "rotation_period          -544.61250\n",
              "length_of_day             890.90000\n",
              "distance_from_sun        1265.41250\n",
              "perihelion               1223.26250\n",
              "aphelion                 1307.55000\n",
              "orbital_period          13353.98750\n",
              "orbital_velocity           21.41250\n",
              "orbital_inclination         2.33750\n",
              "orbital_eccentricity        0.06075\n",
              "obliquity_to_orbit         47.74175\n",
              "mean_temperature           -8.00000\n",
              "number_of_moons            23.12500\n",
              "dtype: float64"
            ]
          },
          "metadata": {},
          "execution_count": 23
        }
      ]
    },
    {
      "cell_type": "code",
      "metadata": {
        "colab": {
          "base_uri": "https://localhost:8080/"
        },
        "id": "BpHEuvcnwhWx",
        "outputId": "44988246-fd64-4ec0-863a-dc4bbdec6f5d"
      },
      "source": [
        "planets.min()"
      ],
      "id": "BpHEuvcnwhWx",
      "execution_count": 26,
      "outputs": [
        {
          "output_type": "execute_result",
          "data": {
            "text/plain": [
              "planet                   Earth\n",
              "mass                      0.33\n",
              "diameter                  4879\n",
              "density                    687\n",
              "gravity                    3.7\n",
              "escape_velocity            4.3\n",
              "rotation_period        -5832.5\n",
              "length_of_day              9.9\n",
              "distance_from_sun         57.9\n",
              "perihelion                  46\n",
              "aphelion                  69.8\n",
              "orbital_period              88\n",
              "orbital_velocity           5.4\n",
              "orbital_inclination          0\n",
              "orbital_eccentricity     0.007\n",
              "obliquity_to_orbit       0.034\n",
              "mean_temperature          -200\n",
              "number_of_moons              0\n",
              "dtype: object"
            ]
          },
          "metadata": {},
          "execution_count": 26
        }
      ]
    },
    {
      "cell_type": "code",
      "metadata": {
        "colab": {
          "base_uri": "https://localhost:8080/",
          "height": 296
        },
        "id": "h4ayVceOwmu_",
        "outputId": "f4631f7e-f843-4955-c9c1-61a630d8abe8"
      },
      "source": [
        "planets[['planet',\"distance_from_sun\"]].plot(x='planet',y='distance_from_sun',kind='scatter')"
      ],
      "id": "h4ayVceOwmu_",
      "execution_count": 27,
      "outputs": [
        {
          "output_type": "execute_result",
          "data": {
            "text/plain": [
              "<matplotlib.axes._subplots.AxesSubplot at 0x7f3e70775310>"
            ]
          },
          "metadata": {},
          "execution_count": 27
        },
        {
          "output_type": "display_data",
          "data": {
            "image/png": "[encoded data removed]",
            "text/plain": [
              "<Figure size 432x288 with 1 Axes>"
            ]
          },
          "metadata": {
            "needs_background": "light"
          }
        }
      ]
    },
    {
      "cell_type": "code",
      "metadata": {
        "colab": {
          "base_uri": "https://localhost:8080/",
          "height": 282
        },
        "id": "Qr_9mhz3xtkd",
        "outputId": "56cd73f7-3b68-4b89-fa0f-211127cc3e79"
      },
      "source": [
        "planets['mean_temperature'].plot(kind='hist')"
      ],
      "id": "Qr_9mhz3xtkd",
      "execution_count": 28,
      "outputs": [
        {
          "output_type": "execute_result",
          "data": {
            "text/plain": [
              "<matplotlib.axes._subplots.AxesSubplot at 0x7f3e706e4c90>"
            ]
          },
          "metadata": {},
          "execution_count": 28
        },
        {
          "output_type": "display_data",
          "data": {
            "image/png": "[encoded data removed]",
            "text/plain": [
              "<Figure size 432x288 with 1 Axes>"
            ]
          },
          "metadata": {
            "needs_background": "light"
          }
        }
      ]
    }
  ]
}