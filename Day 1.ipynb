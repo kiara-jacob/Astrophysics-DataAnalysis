{
  "nbformat": 4,
  "nbformat_minor": 0,
  "metadata": {
    "kernelspec": {
      "display_name": "Python 3",
      "language": "python",
      "name": "python3"
    },
    "language_info": {
      "codemirror_mode": {
        "name": "ipython",
        "version": 3
      },
      "file_extension": ".py",
      "mimetype": "text/x-python",
      "name": "python",
      "nbconvert_exporter": "python",
      "pygments_lexer": "ipython3",
      "version": "3.8.5"
    },
    "colab": {
      "name": "Kiara Jacob- Day 1 Excercises",
      "provenance": [],
      "collapsed_sections": []
    }
  },
  "cells": [
    {
      "cell_type": "markdown",
      "metadata": {
        "id": "_kqlWYOU22Ht"
      },
      "source": [
        "## Exercise 1: With Conditionals. Test to see if a number (a) is positive. If it is positive save it in a variable called is_pos"
      ]
    },
    {
      "cell_type": "code",
      "metadata": {
        "colab": {
          "base_uri": "https://localhost:8080/"
        },
        "id": "4c4nbU6K22Hz",
        "outputId": "7e440cba-4e90-495d-b9c1-0ce91d6f0a1c"
      },
      "source": [
        "a=4\n",
        "\n",
        "if a%2==0:\n",
        "  is_pos=a\n",
        "print(is_pos)"
      ],
      "execution_count": null,
      "outputs": [
        {
          "output_type": "stream",
          "name": "stdout",
          "text": [
            "4\n"
          ]
        }
      ]
    },
    {
      "cell_type": "markdown",
      "metadata": {
        "id": "TBLZQDiV22H0"
      },
      "source": [
        "## Exercise 2: Make a list of numbers. Create a new list. Loop over the list and save the square of each of these numbers in the new list."
      ]
    },
    {
      "cell_type": "code",
      "metadata": {
        "colab": {
          "base_uri": "https://localhost:8080/"
        },
        "id": "vaCdgdNP22H0",
        "outputId": "714c7467-1e73-4a69-9ce1-067a1bbe681a"
      },
      "source": [
        "l_1=[3,6,9]\n",
        "output=[]\n",
        "\n",
        "for x in l_1:\n",
        "  output.append(x*x)\n",
        "  \n",
        "print(output)"
      ],
      "execution_count": null,
      "outputs": [
        {
          "output_type": "stream",
          "name": "stdout",
          "text": [
            "[9, 36, 81]\n"
          ]
        }
      ]
    },
    {
      "cell_type": "markdown",
      "metadata": {
        "id": "cudczo3F22H1"
      },
      "source": [
        "## Exercise 3: Write a function that takes three numbers as inputs and returns a*b+c. And then use this to calculate the value when the function takes 2,3,1 as an input. (The answer is 7)"
      ]
    },
    {
      "cell_type": "code",
      "metadata": {
        "colab": {
          "base_uri": "https://localhost:8080/"
        },
        "id": "6Z885QBR22H2",
        "outputId": "fb40081d-cbfb-4476-87fb-e1f4fb3741ff"
      },
      "source": [
        "def calculate(a,b,c):\n",
        "  print(a*b+c)\n",
        "\n",
        "calculate(2,3,1)\n"
      ],
      "execution_count": null,
      "outputs": [
        {
          "output_type": "stream",
          "name": "stdout",
          "text": [
            "7\n"
          ]
        }
      ]
    },
    {
      "cell_type": "markdown",
      "metadata": {
        "id": "OsQRzK6122H2"
      },
      "source": [
        "## Exercise 4: Create two lists. Add both of them together."
      ]
    },
    {
      "cell_type": "code",
      "metadata": {
        "id": "scAGBcsy22H3",
        "colab": {
          "base_uri": "https://localhost:8080/"
        },
        "outputId": "1b4eb475-4dab-486b-8e82-0f54d3e4e59d"
      },
      "source": [
        "l1=[1,3,4]\n",
        "l2=[5,6,7]\n",
        "print(l1+l2)"
      ],
      "execution_count": 1,
      "outputs": [
        {
          "output_type": "stream",
          "name": "stdout",
          "text": [
            "[1, 3, 4, 5, 6, 7]\n"
          ]
        }
      ]
    },
    {
      "cell_type": "markdown",
      "metadata": {
        "id": "WsK7Bcih22H6"
      },
      "source": [
        "## Exercise 5: Write a function to convert from celsius to fahrenheit and vice versa depending on the input is_fahrenheit"
      ]
    },
    {
      "cell_type": "code",
      "metadata": {
        "id": "vKCkxO0D22H6"
      },
      "source": [
        "F_in=32\n",
        "C_in=0\n",
        "C_out=(5/9)*(F_in-32) #Formula for converting from Fahrenheit to Centigrade\n",
        "F_out=9*C_in/5+32     #Formula for converting from Centigrade to Fahrenheit"
      ],
      "execution_count": null,
      "outputs": []
    },
    {
      "cell_type": "code",
      "metadata": {
        "colab": {
          "base_uri": "https://localhost:8080/"
        },
        "id": "9bl3t9A522H7",
        "outputId": "58d7b6a6-fb48-45df-a649-d22af3cac71c"
      },
      "source": [
        "\n",
        "def convert_temp(input_temp,is_fahrenheit):\n",
        "    if is_fahrenheit:\n",
        "      F_in=input_temp\n",
        "      C_out=(5/9)*(F_in-32) #Converts from Fahrenheit to Centigrade\n",
        "      print(C_out)\n",
        "    else:\n",
        "      C_in=input_temp\n",
        "      F_out=9*C_in/5+32  #Converts from Centigrade to Fahrenheit\n",
        "      print(F_out)\n",
        "    return None\n",
        "\n",
        "convert_temp(90,True) \n",
        "convert_temp(50,False)\n",
        "  "
      ],
      "execution_count": null,
      "outputs": [
        {
          "output_type": "stream",
          "name": "stdout",
          "text": [
            "32.22222222222222\n",
            "122.0\n"
          ]
        }
      ]
    },
    {
      "cell_type": "markdown",
      "metadata": {
        "id": "RfFJ88qx22H8"
      },
      "source": [
        "## For a comprehensive set of programs: follow:\n",
        "https://www.programiz.com/python-programming/examples"
      ]
    }
  ]
}